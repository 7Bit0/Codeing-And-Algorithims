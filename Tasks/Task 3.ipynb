{
 "cells": [
  {
   "cell_type": "code",
   "execution_count": null,
   "metadata": {},
   "outputs": [],
   "source": [
    "def nprimes(n):\n",
    "    x = list()\n",
    "    for i in range(2, n - 1):\n",
    "        l = True\n",
    "        for n in range(2, i - 1):\n",
    "            if (i % n == 0):\n",
    "                l = False\n",
    "                break\n",
    "        if l:\n",
    "            x.append(i)\n",
    "    return x"
   ]
  },
  {
   "cell_type": "code",
   "execution_count": null,
   "metadata": {},
   "outputs": [],
   "source": [
    "\n",
    "def charactercount(s):\n",
    "    i = input('Input A String')\n",
    "    t, x = 0, 0\n",
    "\n",
    "    while x <= i.__len__():\n",
    "        p = i.find(s, x)\n",
    "        if p != -1:\n",
    "            x = (p + s.__len__())\n",
    "            t += 1\n",
    "        else:\n",
    "            break\n",
    "\n",
    "    return t"
   ]
  },
  {
   "cell_type": "code",
   "execution_count": null,
   "metadata": {},
   "outputs": [],
   "source": [
    "def divisors(d):\n",
    "    t = set()\n",
    "    for i in range(2, d):\n",
    "        if (d % i == 0):\n",
    "            t .add(i)\n",
    "    return t"
   ]
  },
  {
   "cell_type": "code",
   "execution_count": 39,
   "metadata": {},
   "outputs": [
    {
     "data": {
      "text/plain": [
       "{1, 2, 3, 4, 5}"
      ]
     },
     "execution_count": 39,
     "metadata": {},
     "output_type": "execute_result"
    }
   ],
   "source": [
    "def digits(n):\n",
    "    t = set()\n",
    "    while n > 0:\n",
    "        t.add(n % 10)\n",
    "        n = n // 10\n",
    "    return t"
   ]
  },
  {
   "cell_type": "code",
   "execution_count": null,
   "metadata": {},
   "outputs": [],
   "source": [
    "def commondiv(a, b):\n",
    "    t = set()\n",
    "    for i in range(2, max(a, b)):\n",
    "        if (a % i == 0) and (b % i == 0):\n",
    "            t .add(i)\n",
    "    return t"
   ]
  },
  {
   "cell_type": "code",
   "execution_count": null,
   "metadata": {},
   "outputs": [],
   "source": [
    "def ispermutation(a, b):\n",
    "    t = set()\n",
    "    for i in range(10):\n",
    "        t.add(i)\n",
    "    for i in range(a.__len__()):\n",
    "        t.discard(a[i])\n",
    "    for i in range(b.__len__()):\n",
    "        t.discard(b[i])\n",
    "    if t.__len__() == 0:\n",
    "        return True\n",
    "    else:\n",
    "        return False"
   ]
  },
  {
   "cell_type": "code",
   "execution_count": null,
   "metadata": {},
   "outputs": [],
   "source": [
    "def primefactors(n):\n",
    "    def isPrime(p):\n",
    "        l = True\n",
    "        for n in range(2, p - 1):\n",
    "            if (p % n == 0):\n",
    "                l = False\n",
    "                break\n",
    "        return l\n",
    "\n",
    "    t = set()\n",
    "    for i in range(2, n):\n",
    "        if (n % i == 0) and isPrime(i):\n",
    "            t .add(i)\n",
    "    return t"
   ]
  },
  {
   "cell_type": "code",
   "execution_count": null,
   "metadata": {},
   "outputs": [],
   "source": [
    "def setA(s):\n",
    "    t = set()\n",
    "    for i in range(s.__len__()):\n",
    "        t.add(s[i])\n",
    "    return t"
   ]
  },
  {
   "cell_type": "code",
   "execution_count": null,
   "metadata": {},
   "outputs": [],
   "source": [
    "primes = list()\n",
    "max = 10_000\n",
    "\n",
    "\n",
    "def isPrime(p):\n",
    "    l = True\n",
    "    for n in range(2, p - 1):\n",
    "        if (p % n == 0):\n",
    "            l = False\n",
    "            break\n",
    "    return l\n",
    "\n",
    "\n",
    "for i in range(2, max):\n",
    "    if isPrime(i):\n",
    "        primes.append(i)\n",
    "\n",
    "print(\"init\")\n",
    "\n",
    "# check if a number is in the set \"Primes\"\n",
    "\n",
    "number = int(input('Input a number: '))\n",
    "\n",
    "\n",
    "def binSearch(number):\n",
    "    n = (primes.__len__() / 2).__round__()\n",
    "    x = (primes.__len__() / 2).__round__()\n",
    "\n",
    "    while True:\n",
    "\n",
    "        if primes[n] < number:\n",
    "            x = (x/2).__round__()\n",
    "            n = n + x\n",
    "        else:\n",
    "            x = (x/2).__round__()\n",
    "            n = n - x\n",
    "\n",
    "        if x <= 1:\n",
    "            break\n",
    "\n",
    "    return primes[n]\n",
    "\n",
    "\n",
    "z = 1\n",
    "while True:\n",
    "\n",
    "    if z >= number:\n",
    "        print(\"Couldent find pair\")\n",
    "        break\n",
    "\n",
    "    if binSearch(number-z)+binSearch(z) == number:\n",
    "        print(binSearch(number-z), binSearch(z))\n",
    "        break\n",
    "    else:\n",
    "        z += 1\n",
    "        print(z)"
   ]
  }
 ],
 "metadata": {
  "kernelspec": {
   "display_name": "Python 3.9.13 64-bit",
   "language": "python",
   "name": "python3"
  },
  "language_info": {
   "codemirror_mode": {
    "name": "ipython",
    "version": 3
   },
   "file_extension": ".py",
   "mimetype": "text/x-python",
   "name": "python",
   "nbconvert_exporter": "python",
   "pygments_lexer": "ipython3",
   "version": "3.9.13"
  },
  "orig_nbformat": 4,
  "vscode": {
   "interpreter": {
    "hash": "aee8b7b246df8f9039afb4144a1f6fd8d2ca17a180786b69acc140d282b71a49"
   }
  }
 },
 "nbformat": 4,
 "nbformat_minor": 2
}
