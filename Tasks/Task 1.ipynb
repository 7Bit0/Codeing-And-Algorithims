{
 "cells": [
  {
   "cell_type": "code",
   "execution_count": null,
   "metadata": {},
   "outputs": [],
   "source": [
    "12345+67890"
   ]
  },
  {
   "cell_type": "code",
   "execution_count": null,
   "metadata": {},
   "outputs": [],
   "source": [
    "# Use a for loop and the range command to print out the even numbers from 4 to 100 (inclusively)\n",
    "for i in range(4, 101, 2):\n",
    "    print(i)"
   ]
  },
  {
   "cell_type": "code",
   "execution_count": null,
   "metadata": {},
   "outputs": [],
   "source": [
    "t, n = 0, 1\n",
    "while t < 50:\n",
    "    n+=1\n",
    "    t = n**2\n",
    "    if t < 50:\n",
    "        print(t)"
   ]
  },
  {
   "cell_type": "code",
   "execution_count": null,
   "metadata": {},
   "outputs": [],
   "source": [
    "def findPropperDivisers(n):\n",
    "    divisers = 0\n",
    "    for i in range(1, n):\n",
    "        if n % i == 0:\n",
    "            print(i)\n",
    "            divisers += 1\n",
    "    return divisers\n",
    "\n",
    "print(\"Found \" + str(findPropperDivisers(154954800)) + \" divisors in total\")"
   ]
  },
  {
   "cell_type": "code",
   "execution_count": null,
   "metadata": {},
   "outputs": [],
   "source": [
    "for i in range(100_000, 113, -1):\n",
    "    if i % 113 == 0:\n",
    "        print(i)\n",
    "        break\n"
   ]
  },
  {
   "cell_type": "code",
   "execution_count": null,
   "metadata": {},
   "outputs": [],
   "source": [
    "i = 1_000_000\n",
    "while True:\n",
    "    i+=1\n",
    "    if i % 1_729 == 0:\n",
    "        print(i)\n",
    "        break\n"
   ]
  },
  {
   "cell_type": "code",
   "execution_count": null,
   "metadata": {},
   "outputs": [],
   "source": [
    "def factorial(n):\n",
    "    if n == 0:\n",
    "        return 1\n",
    "    else:\n",
    "        return n * factorial(n-1)\n",
    "\n",
    "print(factorial(9))\n",
    "print(factorial(20))"
   ]
  },
  {
   "cell_type": "code",
   "execution_count": null,
   "metadata": {},
   "outputs": [],
   "source": [
    "x = int(input(\"input a positive integer\"))\n",
    "\n",
    "if x % 2 == 0:\n",
    "    print(\"Even\")\n",
    "else:\n",
    "    print(\"Odd\")"
   ]
  },
  {
   "cell_type": "code",
   "execution_count": 5,
   "metadata": {},
   "outputs": [
    {
     "name": "stdout",
     "output_type": "stream",
     "text": [
      "7\n",
      "22\n",
      "37\n",
      "52\n",
      "67\n",
      "82\n",
      "97\n"
     ]
    }
   ],
   "source": [
    "for i in range(1, 100):\n",
    "    if (i % 3 == 1) & (i % 5 == 2):\n",
    "        print(i)"
   ]
  },
  {
   "cell_type": "code",
   "execution_count": 7,
   "metadata": {},
   "outputs": [
    {
     "name": "stdout",
     "output_type": "stream",
     "text": [
      "2325\n"
     ]
    }
   ],
   "source": [
    "x = 0\n",
    "n = 0\n",
    "while x < 30:\n",
    "    x += 1\n",
    "    n += (x*5)\n",
    "print(n)"
   ]
  },
  {
   "cell_type": "code",
   "execution_count": null,
   "metadata": {},
   "outputs": [],
   "source": [
    "colour = input('Please enter either green, yellow or red').lower()\n",
    "\n",
    "if colour == 'green':\n",
    "    print('The light is green, you may go ahead')\n",
    "elif colour == 'yellow':\n",
    "    print('The light is yellow, slow down ahead')\n",
    "elif colour == 'red':\n",
    "    print('The light is red, stop now!')\n",
    "else:\n",
    "    print('That\\'s not one of the colours of the lights')"
   ]
  },
  {
   "cell_type": "code",
   "execution_count": 15,
   "metadata": {},
   "outputs": [
    {
     "name": "stdout",
     "output_type": "stream",
     "text": [
      "8.304361203739344\n"
     ]
    }
   ],
   "source": [
    "start = int(input(\"Enter a number\"))\n",
    "end = int(input(\"Enter a second number\")) + 1\n",
    "\n",
    "n = 1\n",
    "for i in range(start, end):\n",
    "    n = n*i\n",
    "\n",
    "print(n**(1/(end-start)))\n"
   ]
  }
 ],
 "metadata": {
  "kernelspec": {
   "display_name": "Python 3.9.13 64-bit",
   "language": "python",
   "name": "python3"
  },
  "language_info": {
   "codemirror_mode": {
    "name": "ipython",
    "version": 3
   },
   "file_extension": ".py",
   "mimetype": "text/x-python",
   "name": "python",
   "nbconvert_exporter": "python",
   "pygments_lexer": "ipython3",
   "version": "3.9.13"
  },
  "orig_nbformat": 4,
  "vscode": {
   "interpreter": {
    "hash": "aee8b7b246df8f9039afb4144a1f6fd8d2ca17a180786b69acc140d282b71a49"
   }
  }
 },
 "nbformat": 4,
 "nbformat_minor": 2
}
