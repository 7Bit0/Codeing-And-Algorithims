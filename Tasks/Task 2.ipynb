{
 "cells": [
  {
   "cell_type": "code",
   "execution_count": 28,
   "metadata": {},
   "outputs": [
    {
     "data": {
      "text/plain": [
       "25"
      ]
     },
     "execution_count": 28,
     "metadata": {},
     "output_type": "execute_result"
    }
   ],
   "source": [
    "def tripleproduct(a, b, c):\n",
    "    return a*b*c"
   ]
  },
  {
   "cell_type": "code",
   "execution_count": null,
   "metadata": {},
   "outputs": [],
   "source": [
    "def hypotenuse(x, y):\n",
    "    return ((x**2)+(y**2))**(1/2)"
   ]
  },
  {
   "cell_type": "code",
   "execution_count": null,
   "metadata": {},
   "outputs": [],
   "source": [
    "def numdivisors(d):\n",
    "    t = 0\n",
    "    for i in range(0, d):\n",
    "        if (d % i == 0):\n",
    "            t += 1\n",
    "    return t"
   ]
  },
  {
   "cell_type": "code",
   "execution_count": null,
   "metadata": {},
   "outputs": [],
   "source": [
    "def sum_of_n(n):\n",
    "    sum = 0\n",
    "    for i in range(1, n+1):\n",
    "        sum += i\n",
    "    return sum"
   ]
  },
  {
   "cell_type": "code",
   "execution_count": null,
   "metadata": {},
   "outputs": [],
   "source": [
    "def sum_reciprocals(n):\n",
    "    if n < 1:\n",
    "        return 0\n",
    "    else:\n",
    "        return sum(1 / i for i in range(1, n + 1))"
   ]
  },
  {
   "cell_type": "code",
   "execution_count": null,
   "metadata": {},
   "outputs": [],
   "source": [
    "def checksquare(n):\n",
    "    return (n**(1/2)) % 1 == 0"
   ]
  },
  {
   "cell_type": "code",
   "execution_count": null,
   "metadata": {},
   "outputs": [],
   "source": [
    "def countprime(p):\n",
    "    x = 0\n",
    "    for i in range(2, p - 1):\n",
    "        l = True\n",
    "        for n in range(2, i - 1):\n",
    "            if (i % n == 0):\n",
    "                l = False\n",
    "                break\n",
    "        if l:\n",
    "            x += 1\n",
    "    return x"
   ]
  },
  {
   "cell_type": "code",
   "execution_count": null,
   "metadata": {},
   "outputs": [],
   "source": [
    "def checkmultiple(x, y):\n",
    "    if x == y:\n",
    "        return 'y is equal to x'\n",
    "    elif x > y:\n",
    "        return 'y is an integer multiple of x' if x % y == 0 else 'Neither value is a multiple of the other'\n",
    "    else:\n",
    "        return 'x is an integer multiple of y' if y % x == 0 else 'Neither value is a multiple of the other'"
   ]
  },
  {
   "cell_type": "code",
   "execution_count": 30,
   "metadata": {},
   "outputs": [
    {
     "data": {
      "text/plain": [
       "(1.0, 3.0)"
      ]
     },
     "execution_count": 30,
     "metadata": {},
     "output_type": "execute_result"
    }
   ],
   "source": [
    "def simplifyfrac(n, d):\n",
    "\n",
    "    while True:\n",
    "        if ((n % 2 == 0) & (d % 2 == 0)):\n",
    "            n = n / 2\n",
    "            d = d / 2\n",
    "        elif ((n % 3 == 0) & (d % 3 == 0)):\n",
    "            n = n / 3\n",
    "            d = d / 3\n",
    "        else:\n",
    "            break\n",
    "    \n",
    "    return (n,d)"
   ]
  },
  {
   "cell_type": "code",
   "execution_count": 33,
   "metadata": {},
   "outputs": [
    {
     "data": {
      "text/plain": [
       "'113 is the 29 prime number'"
      ]
     },
     "execution_count": 33,
     "metadata": {},
     "output_type": "execute_result"
    }
   ],
   "source": [
    "def countPrime(p):\n",
    "    def isPrime(p):\n",
    "        l = True\n",
    "        for n in range(2, p - 1):\n",
    "            if (p % n == 0):\n",
    "                l = False\n",
    "                break\n",
    "        return l\n",
    "\n",
    "    if not isPrime(p):\n",
    "        return 'Your input is not prime, please enter another number'\n",
    "\n",
    "    n = 0\n",
    "    for i in range(2, p):\n",
    "        if isPrime(i):\n",
    "            n+=1\n",
    "\n",
    "    return str(p) + ' is the ' + str(n) + ' prime number'\n",
    "\n",
    "countPrime(113)\n"
   ]
  }
 ],
 "metadata": {
  "kernelspec": {
   "display_name": "Python 3.9.13 64-bit",
   "language": "python",
   "name": "python3"
  },
  "language_info": {
   "codemirror_mode": {
    "name": "ipython",
    "version": 3
   },
   "file_extension": ".py",
   "mimetype": "text/x-python",
   "name": "python",
   "nbconvert_exporter": "python",
   "pygments_lexer": "ipython3",
   "version": "3.9.13"
  },
  "orig_nbformat": 4,
  "vscode": {
   "interpreter": {
    "hash": "aee8b7b246df8f9039afb4144a1f6fd8d2ca17a180786b69acc140d282b71a49"
   }
  }
 },
 "nbformat": 4,
 "nbformat_minor": 2
}
